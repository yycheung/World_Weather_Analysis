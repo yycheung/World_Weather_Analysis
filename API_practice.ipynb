{
 "cells": [
  {
   "cell_type": "code",
   "execution_count": 1,
   "id": "64fa5425",
   "metadata": {},
   "outputs": [],
   "source": [
    "# Create a practice set of random latitude and longitude combinations.\n",
    "x = [25.12903645, 25.92017388, 26.62509167, -59.98969384, 37.30571269]\n",
    "y = [-67.59741259, 11.09532135, 74.84233102, -76.89176677, -61.13376282]\n",
    "coordinates = zip(x, y)"
   ]
  },
  {
   "cell_type": "code",
   "execution_count": 10,
   "id": "e5366a78",
   "metadata": {},
   "outputs": [],
   "source": [
    "# Use the tuple() function to display the latitude and longitude combinations.\n",
    "for coordinate in coordinates:\n",
    "    print(coordinate[0], coordinate[1])"
   ]
  },
  {
   "cell_type": "code",
   "execution_count": 1,
   "id": "ebc7c760",
   "metadata": {},
   "outputs": [],
   "source": [
    "# Import the requests library.\n",
    "import requests\n",
    "\n",
    "# Import the API key.\n",
    "from config import weather_api_key"
   ]
  },
  {
   "cell_type": "code",
   "execution_count": 2,
   "id": "710a752c",
   "metadata": {},
   "outputs": [
    {
     "name": "stdout",
     "output_type": "stream",
     "text": [
      "http://api.openweathermap.org/data/2.5/weather?units=Imperial&APPID=162e9b5a255c55087c26e9478448b887\n"
     ]
    }
   ],
   "source": [
    "# Starting URL for Weather Map API Call.\n",
    "url = \"http://api.openweathermap.org/data/2.5/weather?units=Imperial&APPID=\" + weather_api_key\n",
    "print(url)"
   ]
  },
  {
   "cell_type": "code",
   "execution_count": 3,
   "id": "2b4c5128",
   "metadata": {},
   "outputs": [
    {
     "name": "stdout",
     "output_type": "stream",
     "text": [
      "http://api.openweathermap.org/data/2.5/weather?units=Imperial&APPID=162e9b5a255c55087c26e9478448b887&q=Boston\n"
     ]
    }
   ],
   "source": [
    "# Create an endpoint URL for a city.\n",
    "city_url = url + \"&q=\" + \"Boston\"\n",
    "print(city_url)"
   ]
  },
  {
   "cell_type": "code",
   "execution_count": 4,
   "id": "ce9b8f29",
   "metadata": {},
   "outputs": [
    {
     "data": {
      "text/plain": [
       "<Response [200]>"
      ]
     },
     "execution_count": 4,
     "metadata": {},
     "output_type": "execute_result"
    }
   ],
   "source": [
    "# Make a 'Get' request for the city weather.\n",
    "city_weather = requests.get(city_url)\n",
    "city_weather"
   ]
  },
  {
   "cell_type": "code",
   "execution_count": 5,
   "id": "acda8529",
   "metadata": {},
   "outputs": [
    {
     "data": {
      "text/plain": [
       "<Response [404]>"
      ]
     },
     "execution_count": 5,
     "metadata": {},
     "output_type": "execute_result"
    }
   ],
   "source": [
    "# Create an endpoint URL for a city.\n",
    "city_url = url + \"&q=\" + \"Bston\"\n",
    "city_weather = requests.get(city_url)\n",
    "city_weather"
   ]
  },
  {
   "cell_type": "markdown",
   "id": "6cd41377",
   "metadata": {},
   "source": [
    "# -------Get Data from a Response------"
   ]
  },
  {
   "cell_type": "code",
   "execution_count": 16,
   "id": "28d696fb",
   "metadata": {},
   "outputs": [
    {
     "data": {
      "text/plain": [
       "<Response [200]>"
      ]
     },
     "execution_count": 16,
     "metadata": {},
     "output_type": "execute_result"
    }
   ],
   "source": [
    "# Create an endpoint URL for a city.\n",
    "city_url = url + \"&q=\" + \"Boston\"\n",
    "city_weather = requests.get(city_url)\n",
    "city_weather"
   ]
  },
  {
   "cell_type": "code",
   "execution_count": 19,
   "id": "d4b2f1e3",
   "metadata": {},
   "outputs": [
    {
     "data": {
      "text/plain": [
       "['coord',\n",
       " 'weather',\n",
       " 'base',\n",
       " 'main',\n",
       " 'visibility',\n",
       " 'wind',\n",
       " 'clouds',\n",
       " 'dt',\n",
       " 'sys',\n",
       " 'timezone',\n",
       " 'id',\n",
       " 'name',\n",
       " 'cod']"
      ]
     },
     "execution_count": 19,
     "metadata": {},
     "output_type": "execute_result"
    }
   ],
   "source": [
    "list(city_weather.json().keys())"
   ]
  },
  {
   "cell_type": "code",
   "execution_count": 7,
   "id": "104a8d03",
   "metadata": {},
   "outputs": [
    {
     "data": {
      "text/plain": [
       "'{\"coord\":{\"lon\":-71.0598,\"lat\":42.3584},\"weather\":[{\"id\":802,\"main\":\"Clouds\",\"description\":\"scattered clouds\",\"icon\":\"03d\"}],\"base\":\"stations\",\"main\":{\"temp\":61.2,\"feels_like\":60.26,\"temp_min\":54.95,\"temp_max\":66.31,\"pressure\":1009,\"humidity\":69},\"visibility\":10000,\"wind\":{\"speed\":26.46,\"deg\":230,\"gust\":33.38},\"clouds\":{\"all\":40},\"dt\":1646601323,\"sys\":{\"type\":1,\"id\":3486,\"country\":\"US\",\"sunrise\":1646565100,\"sunset\":1646606378},\"timezone\":-18000,\"id\":4930956,\"name\":\"Boston\",\"cod\":200}'"
      ]
     },
     "execution_count": 7,
     "metadata": {},
     "output_type": "execute_result"
    }
   ],
   "source": [
    "# Get the text of the 'Get' request.\n",
    "city_weather.text"
   ]
  },
  {
   "cell_type": "code",
   "execution_count": 22,
   "id": "9ba3684a",
   "metadata": {},
   "outputs": [
    {
     "data": {
      "text/plain": [
       "[{'lon': -71.0598, 'lat': 42.3584},\n",
       " [{'id': 802,\n",
       "   'main': 'Clouds',\n",
       "   'description': 'scattered clouds',\n",
       "   'icon': '03d'}],\n",
       " 'stations',\n",
       " {'temp': 60.78,\n",
       "  'feels_like': 59.85,\n",
       "  'temp_min': 54.63,\n",
       "  'temp_max': 65.57,\n",
       "  'pressure': 1009,\n",
       "  'humidity': 70},\n",
       " 10000,\n",
       " {'speed': 26.46, 'deg': 230, 'gust': 33.38},\n",
       " {'all': 40},\n",
       " 1646601996,\n",
       " {'type': 1,\n",
       "  'id': 3486,\n",
       "  'country': 'US',\n",
       "  'sunrise': 1646565100,\n",
       "  'sunset': 1646606378},\n",
       " -18000,\n",
       " 4930956,\n",
       " 'Boston',\n",
       " 200]"
      ]
     },
     "execution_count": 22,
     "metadata": {},
     "output_type": "execute_result"
    }
   ],
   "source": [
    "# Get the JSON text of the 'Get' request.\n",
    "list(city_weather.json().values())"
   ]
  },
  {
   "cell_type": "markdown",
   "id": "31e2c84f",
   "metadata": {},
   "source": [
    "# ---------Handle Request Errors-----"
   ]
  },
  {
   "cell_type": "code",
   "execution_count": 26,
   "id": "bf7eb95f",
   "metadata": {},
   "outputs": [
    {
     "name": "stdout",
     "output_type": "stream",
     "text": [
      "City Weather found.\n"
     ]
    }
   ],
   "source": [
    "# Create an endpoint URL for a city.\n",
    "city_url = url + \"&q=\" + \"Boston\"\n",
    "city_weather = requests.get(city_url)\n",
    "if city_weather.status_code == 200:\n",
    "    print(f\"City Weather found.\")\n",
    "else:\n",
    "    print(f\"City weather not found.\")"
   ]
  },
  {
   "cell_type": "code",
   "execution_count": 28,
   "id": "447f3f2b",
   "metadata": {},
   "outputs": [
    {
     "name": "stdout",
     "output_type": "stream",
     "text": [
      "http://api.openweathermap.org/data/2.5/weather?units=Imperial&APPID=162e9b5a255c55087c26e9478448b887&q=Boston\n"
     ]
    }
   ],
   "source": [
    "print(city_url)"
   ]
  },
  {
   "cell_type": "code",
   "execution_count": 29,
   "id": "1153a10e",
   "metadata": {},
   "outputs": [
    {
     "name": "stdout",
     "output_type": "stream",
     "text": [
      "City weather not found.\n"
     ]
    }
   ],
   "source": [
    "# Create an endpoint URL for a city.\n",
    "city_url = url + \"&q=\" + \"Bston\"\n",
    "city_weather = requests.get(city_url)\n",
    "if city_weather.status_code == 200:\n",
    "    print(f\"City Weather found.\")\n",
    "else:\n",
    "    print(f\"City weather not found.\")"
   ]
  },
  {
   "cell_type": "code",
   "execution_count": 14,
   "id": "b327e848",
   "metadata": {},
   "outputs": [
    {
     "name": "stdout",
     "output_type": "stream",
     "text": [
      "http://api.openweathermap.org/data/2.5/weather?units=Imperial&APPID=162e9b5a255c55087c26e9478448b887&q=Bston\n"
     ]
    }
   ],
   "source": [
    "print(city_url)"
   ]
  },
  {
   "cell_type": "markdown",
   "id": "3a999992",
   "metadata": {},
   "source": [
    "# --------6.2.5 Parse a Response from an API"
   ]
  },
  {
   "cell_type": "code",
   "execution_count": 30,
   "id": "661441c3",
   "metadata": {},
   "outputs": [
    {
     "data": {
      "text/plain": [
       "{'coord': {'lon': -71.0598, 'lat': 42.3584},\n",
       " 'weather': [{'id': 802,\n",
       "   'main': 'Clouds',\n",
       "   'description': 'scattered clouds',\n",
       "   'icon': '03d'}],\n",
       " 'base': 'stations',\n",
       " 'main': {'temp': 60.78,\n",
       "  'feels_like': 59.85,\n",
       "  'temp_min': 54.63,\n",
       "  'temp_max': 65.57,\n",
       "  'pressure': 1009,\n",
       "  'humidity': 70},\n",
       " 'visibility': 10000,\n",
       " 'wind': {'speed': 26.46, 'deg': 230, 'gust': 33.38},\n",
       " 'clouds': {'all': 40},\n",
       " 'dt': 1646601996,\n",
       " 'sys': {'type': 1,\n",
       "  'id': 3486,\n",
       "  'country': 'US',\n",
       "  'sunrise': 1646565100,\n",
       "  'sunset': 1646606378},\n",
       " 'timezone': -18000,\n",
       " 'id': 4930956,\n",
       " 'name': 'Boston',\n",
       " 'cod': 200}"
      ]
     },
     "execution_count": 30,
     "metadata": {},
     "output_type": "execute_result"
    }
   ],
   "source": [
    "# Create an endpoint URL for a city.\n",
    "city_url = url + \"&q=\" + \"Boston\"\n",
    "city_weather = requests.get(city_url)\n",
    "city_weather.json()"
   ]
  },
  {
   "cell_type": "code",
   "execution_count": 31,
   "id": "020e61ba",
   "metadata": {},
   "outputs": [],
   "source": [
    "# Get the JSON data.\n",
    "boston_data = city_weather.json()"
   ]
  },
  {
   "cell_type": "code",
   "execution_count": 32,
   "id": "424be9f2",
   "metadata": {},
   "outputs": [
    {
     "data": {
      "text/plain": [
       "{'type': 1,\n",
       " 'id': 3486,\n",
       " 'country': 'US',\n",
       " 'sunrise': 1646565100,\n",
       " 'sunset': 1646606378}"
      ]
     },
     "execution_count": 32,
     "metadata": {},
     "output_type": "execute_result"
    }
   ],
   "source": [
    "boston_data['sys']"
   ]
  },
  {
   "cell_type": "code",
   "execution_count": 33,
   "id": "1aa41343",
   "metadata": {},
   "outputs": [
    {
     "data": {
      "text/plain": [
       "'US'"
      ]
     },
     "execution_count": 33,
     "metadata": {},
     "output_type": "execute_result"
    }
   ],
   "source": [
    "boston_data['sys']['country']"
   ]
  },
  {
   "cell_type": "code",
   "execution_count": 45,
   "id": "708ce4a6",
   "metadata": {},
   "outputs": [
    {
     "name": "stdout",
     "output_type": "stream",
     "text": [
      "latitude: 42.3584\n",
      "longitude: -71.0598\n",
      "maximum temp: 65.57\n",
      "humidity: 70\n",
      "clouds: 40\n",
      "wind: 26.46\n"
     ]
    }
   ],
   "source": [
    "lat = boston_data[\"coord\"][\"lat\"]\n",
    "lng = boston_data[\"coord\"][\"lon\"]\n",
    "max_temp = boston_data[\"main\"][\"temp_max\"]\n",
    "humidity = boston_data[\"main\"][\"humidity\"]\n",
    "clouds = boston_data[\"clouds\"][\"all\"]\n",
    "wind = boston_data[\"wind\"][\"speed\"]\n",
    "print(f'latitude: {lat}\\n'\n",
    "f'longitude: {lng}\\n'\n",
    "f'maximum temp: {max_temp}\\n'\n",
    "f'humidity: {humidity}\\n'\n",
    "f'clouds: {clouds}\\n'\n",
    "f'wind: {wind}')"
   ]
  },
  {
   "cell_type": "code",
   "execution_count": 46,
   "id": "b54e4119",
   "metadata": {},
   "outputs": [
    {
     "data": {
      "text/plain": [
       "datetime.datetime(2022, 3, 6, 21, 26, 36)"
      ]
     },
     "execution_count": 46,
     "metadata": {},
     "output_type": "execute_result"
    }
   ],
   "source": [
    "# Import the datetime module from the datetime library.\n",
    "from datetime import datetime\n",
    "# Get the date from the JSON file.\n",
    "date = boston_data[\"dt\"]\n",
    "# Convert the UTC date to a date format with year, month, day, hours, minutes, and seconds.\n",
    "datetime.utcfromtimestamp(date)"
   ]
  },
  {
   "cell_type": "code",
   "execution_count": 48,
   "id": "aec29d0c",
   "metadata": {},
   "outputs": [
    {
     "data": {
      "text/plain": [
       "'2022-03-06 21:26:36'"
      ]
     },
     "execution_count": 48,
     "metadata": {},
     "output_type": "execute_result"
    }
   ],
   "source": [
    "datetime.utcfromtimestamp(date).strftime('%Y-%m-%d %H:%M:%S')"
   ]
  },
  {
   "cell_type": "code",
   "execution_count": 49,
   "id": "8014e5f6",
   "metadata": {},
   "outputs": [
    {
     "data": {
      "text/plain": [
       "1646636103.142345"
      ]
     },
     "execution_count": 49,
     "metadata": {},
     "output_type": "execute_result"
    }
   ],
   "source": [
    "# Import the time module.\n",
    "import time\n",
    "# Get today's date in seconds.\n",
    "today = time.time()\n",
    "today"
   ]
  },
  {
   "cell_type": "code",
   "execution_count": 50,
   "id": "0a679889",
   "metadata": {},
   "outputs": [
    {
     "data": {
      "text/plain": [
       "'03/06/22'"
      ]
     },
     "execution_count": 50,
     "metadata": {},
     "output_type": "execute_result"
    }
   ],
   "source": [
    "today = time.strftime(\"%x\")\n",
    "today\n"
   ]
  },
  {
   "cell_type": "code",
   "execution_count": null,
   "id": "39e8e7f7",
   "metadata": {},
   "outputs": [],
   "source": []
  }
 ],
 "metadata": {
  "kernelspec": {
   "display_name": "PythonData",
   "language": "python",
   "name": "pythondata"
  },
  "language_info": {
   "codemirror_mode": {
    "name": "ipython",
    "version": 3
   },
   "file_extension": ".py",
   "mimetype": "text/x-python",
   "name": "python",
   "nbconvert_exporter": "python",
   "pygments_lexer": "ipython3",
   "version": "3.9.7"
  }
 },
 "nbformat": 4,
 "nbformat_minor": 5
}
